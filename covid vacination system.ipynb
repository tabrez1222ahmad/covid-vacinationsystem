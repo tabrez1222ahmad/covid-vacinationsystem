{
 "cells": [
  {
   "cell_type": "code",
   "execution_count": 1,
   "metadata": {},
   "outputs": [
    {
     "name": "stdout",
     "output_type": "stream",
     "text": [
      "\n",
      "                        *>>>>>>    RESULTS   <<<<<<<*                                \n",
      "-------------------------------------------------------------------------------------\n",
      "Date: 23/10/22 | Pincode: 831001 \n",
      "Total centers in your area is: 2\n",
      "------------------------------------------------------------------------------------\n",
      "\n",
      "\n",
      "[1] Center Name: Healthmate\n",
      "------------------------------------------------------------\n",
      "   Date      Vaccine Type    Minimum Age    Available \n",
      "  ------     -------------   ------------   ----------\n",
      " 23-10-2022    COVAXIN          15             299        \n",
      " 23-10-2022   COVISHIELD        18             297        \n",
      " 24-10-2022   COVISHIELD        18             300        \n",
      " 24-10-2022    COVAXIN          15             300        \n",
      " 25-10-2022    COVAXIN          15             298        \n",
      " 25-10-2022   COVISHIELD        18             300        \n",
      " 26-10-2022   COVISHIELD        18             300        \n",
      " 26-10-2022    COVAXIN          15             300        \n",
      " 27-10-2022   COVISHIELD        18             300        \n",
      " 27-10-2022    COVAXIN          15             300        \n",
      " 28-10-2022    COVAXIN          15             300        \n",
      " 28-10-2022   COVISHIELD        18             300        \n",
      " 29-10-2022   COVISHIELD        18             299        \n",
      " 29-10-2022    COVAXIN          15             300        \n",
      "\n",
      "[2] Center Name: Red Cross Vaccine Center\n",
      "------------------------------------------------------------\n",
      "   Date      Vaccine Type    Minimum Age    Available \n",
      "  ------     -------------   ------------   ----------\n",
      " 23-10-2022    COVAXIN          18             109        \n",
      " 23-10-2022   COVISHIELD        18             154        \n",
      " 24-10-2022    COVAXIN          18             110        \n",
      " 24-10-2022   COVISHIELD        18             159        \n",
      " 25-10-2022   COVISHIELD        18             160        \n",
      " 25-10-2022    COVAXIN          18              90        \n",
      " 26-10-2022   COVISHIELD        18             160        \n",
      " 26-10-2022    COVAXIN          18              90        \n",
      " 27-10-2022   COVISHIELD        18             160        \n",
      " 27-10-2022    COVAXIN          18              90        \n",
      " 28-10-2022   COVISHIELD        18             160        \n",
      " 28-10-2022    COVAXIN          18              90        \n",
      " 29-10-2022    COVAXIN          18              90        \n",
      " 29-10-2022   COVISHIELD        18             160        \n"
     ]
    }
   ],
   "source": [
    "import requests #can be installed using:  pip install requests\n",
    "\n",
    "PINCODE = \"0\"\n",
    "while len(PINCODE) != 6:\n",
    "    PINCODE = input(\"Enter the pincode for which you want the status => \")\n",
    "    if len(PINCODE) < 6:\n",
    "        print (f\"{PINCODE} is shorter than the actual length\")\n",
    "    elif len(PINCODE) > 6:\n",
    "        print (f\"{PINCODE} is longer than the actual length\")\n",
    "    \n",
    "REQ_DATE = input (\"Enter the Date to get status (Date format: DD-MM-YYYY) => \")\n",
    "\n",
    "request_link = f\"https://cdn-api.co-vin.in/api/v2/appointment/sessions/public/calendarByPin?pincode={PINCODE}&date={REQ_DATE}\"\n",
    "header = {'User-Agent': 'Chrome/84.0.4147.105 Safari/537.36'}\n",
    "response = requests.get(request_link, headers = header)\n",
    "raw_JSON = response.json()\n",
    "\n",
    "Total_centers = len(raw_JSON['centers'])\n",
    "print ()\n",
    "print (\"                        *>>>>>>    RESULTS   <<<<<<<*                                \")\n",
    "print (\"-------------------------------------------------------------------------------------\")\n",
    "print (f\"Date: {REQ_DATE} | Pincode: {PINCODE} \")\n",
    "\n",
    "if Total_centers != 0:\n",
    "    print (f\"Total centers in your area is: {Total_centers}\" )\n",
    "else:\n",
    "    print (f\"Unfortunately !! Seems like no center in this area / Kindly re-check the Pincode\" )\n",
    "\n",
    "print (\"------------------------------------------------------------------------------------\")\n",
    "print ()\n",
    "\n",
    "for cent in range(Total_centers):\n",
    "    print ()\n",
    "    print (f\"[{cent+1}] Center Name:\", raw_JSON['centers'][cent]['name'])\n",
    "    print (\"------------------------------------------------------------\")\n",
    "    print (\"   Date      Vaccine Type    Minimum Age    Available \")\n",
    "    print (\"  ------     -------------   ------------   ----------\")\n",
    "    this_session = raw_JSON['centers'][cent]['sessions']\n",
    "    \n",
    "    for _sess in range(len(this_session)):\n",
    "        print ( \"{0:^12} {1:^12} {2:^14} {3:^16} \".format(this_session[_sess]['date'], this_session[_sess]['vaccine'], this_session[_sess]['min_age_limit'], this_session[_sess]['available_capacity']))\n"
   ]
  }
 ],
 "metadata": {
  "kernelspec": {
   "display_name": "Python 3.10.7 64-bit",
   "language": "python",
   "name": "python3"
  },
  "language_info": {
   "codemirror_mode": {
    "name": "ipython",
    "version": 3
   },
   "file_extension": ".py",
   "mimetype": "text/x-python",
   "name": "python",
   "nbconvert_exporter": "python",
   "pygments_lexer": "ipython3",
   "version": "3.10.7"
  },
  "orig_nbformat": 4,
  "vscode": {
   "interpreter": {
    "hash": "63963b3f4c440940f0b94a3100916033a226cb4f45979123153792d60aa56d6a"
   }
  }
 },
 "nbformat": 4,
 "nbformat_minor": 2
}
